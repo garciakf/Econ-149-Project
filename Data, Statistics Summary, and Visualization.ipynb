{
 "cells": [
  {
   "cell_type": "code",
   "execution_count": null,
   "metadata": {},
   "outputs": [],
   "source": [
    "#Data Table\n",
    "\n",
    "Date,GDP %,Income %,Inflation %,Housing %\n",
    "1970-01-01,5.5,-0.3,5.8,-8.3\n",
    "1971-01-01,8.5,-0.1,4.3,7.5\n",
    "1972-01-01,9.8,4.9,3.3,9.1\n",
    "1973-01-01,11.4,2.0,6.2,18.4\n",
    "1974-01-01,8.4,-2.7,11.1,10.6\n",
    "1975-01-01,9.0,-1.7,9.1,8.9\n",
    "1976-01-01,11.2,3.1,5.7,12.6\n",
    "1977-01-01,11.1,0.7,6.5,10.6\n",
    "1978-01-01,13.0,3.1,7.6,14.2\n",
    "1979-01-01,11.7,1.4,11.3,12.4\n",
    "1980-01-01,8.8,-3.5,13.5,3.2\n",
    "1981-01-01,12.2,-2.7,10.3,6.5\n",
    "1982-01-01,4.3,-1.3,6.1,0.4\n",
    "1983-01-01,8.7,0.6,3.2,8.9\n",
    "1984-01-01,11.1,3.2,4.3,6.1\n",
    "1985-01-01,7.5,1.4,3.5,5.4\n",
    "1986-01-01,5.5,4.4,1.9,9.2\n",
    "1987-01-01,6.0,1.6,3.7,13.8\n",
    "1988-01-01,7.9,0.3,4.1,7.2\n",
    "1989-01-01,7.7,1.8,4.8,7.3\n",
    "1990-01-01,5.7,-1.5,5.4,1.6\n",
    "1991-01-01,3.3,-1.9,4.2,-1.9\n",
    "1992-01-01,5.9,-0.7,3.0,1.2\n",
    "1993-01-01,5.2,-1.4,3.0,4.2\n",
    "1994-01-01,6.3,2.8,2.6,3.1\n",
    "1995-01-01,4.8,2.3,2.8,2.3\n",
    "1996-01-01,5.7,1.5,2.9,5.1\n",
    "1997-01-01,6.2,3.1,2.3,3.4\n",
    "1998-01-01,5.7,3.5,1.6,4.8\n",
    "1999-01-01,6.3,2.3,2.2,5.4\n",
    "2000-01-01,6.5,0.5,3.4,4.6\n",
    "2001-01-01,3.2,-1.5,2.8,3.3\n",
    "2002-01-01,3.4,-1.0,1.6,7.5\n",
    "2003-01-01,4.8,-0.3,2.3,3.3\n",
    "2004-01-01,6.6,-0.1,2.7,13.5\n",
    "2005-01-01,6.7,0.5,3.4,8.4\n",
    "2006-01-01,6.0,0.7,3.2,3.0\n",
    "2007-01-01,4.6,2.2,2.9,0.5\n",
    "2008-01-01,1.8,-3.4,3.8,-6.3\n",
    "2009-01-01,-1.8,-2.0,-0.4,-6.1\n",
    "2010-01-01,3.8,-1.4,1.6,3.3\n",
    "2011-01-01,3.7,-1.9,3.2,1.0\n",
    "2012-01-01,4.2,0.0,2.1,8.7\n",
    "2013-01-01,3.6,3.7,1.5,8.9\n",
    "2014-01-01,4.4,0.1,1.6,7.3\n",
    "2015-01-01,4.1,5.9,0.1,2.9\n",
    "2016-01-01,2.8,1.5,1.3,3.7\n",
    "2017-01-01,4.3,2.5,2.1,5.7\n",
    "2018-01-01,5.5,0.8,2.4,0.9\n",
    "2019-01-01,4.0,7.4,1.8,-1.5"
   ]
  },
  {
   "cell_type": "code",
   "execution_count": 10,
   "metadata": {},
   "outputs": [],
   "source": [
    "#Statistics Summary \n",
    "\n",
    "#Key Imports\n",
    "import numpy as np\n",
    "import matplotlib.pyplot as plt\n",
    "%matplotlib inline\n",
    "import pandas as pd\n",
    "import statsmodels.api as sm\n",
    "from statsmodels.iolib.summary2 import summary_col"
   ]
  },
  {
   "cell_type": "code",
   "execution_count": 11,
   "metadata": {},
   "outputs": [
    {
     "data": {
      "text/html": [
       "<div>\n",
       "<style scoped>\n",
       "    .dataframe tbody tr th:only-of-type {\n",
       "        vertical-align: middle;\n",
       "    }\n",
       "\n",
       "    .dataframe tbody tr th {\n",
       "        vertical-align: top;\n",
       "    }\n",
       "\n",
       "    .dataframe thead th {\n",
       "        text-align: right;\n",
       "    }\n",
       "</style>\n",
       "<table border=\"1\" class=\"dataframe\">\n",
       "  <thead>\n",
       "    <tr style=\"text-align: right;\">\n",
       "      <th></th>\n",
       "      <th>DATE</th>\n",
       "      <th>GDP</th>\n",
       "    </tr>\n",
       "  </thead>\n",
       "  <tbody>\n",
       "    <tr>\n",
       "      <th>0</th>\n",
       "      <td>1970-01-01</td>\n",
       "      <td>5.47314</td>\n",
       "    </tr>\n",
       "    <tr>\n",
       "      <th>1</th>\n",
       "      <td>1971-01-01</td>\n",
       "      <td>8.52868</td>\n",
       "    </tr>\n",
       "    <tr>\n",
       "      <th>2</th>\n",
       "      <td>1972-01-01</td>\n",
       "      <td>9.80918</td>\n",
       "    </tr>\n",
       "    <tr>\n",
       "      <th>3</th>\n",
       "      <td>1973-01-01</td>\n",
       "      <td>11.43481</td>\n",
       "    </tr>\n",
       "    <tr>\n",
       "      <th>4</th>\n",
       "      <td>1974-01-01</td>\n",
       "      <td>8.40947</td>\n",
       "    </tr>\n",
       "  </tbody>\n",
       "</table>\n",
       "</div>"
      ],
      "text/plain": [
       "         DATE       GDP\n",
       "0  1970-01-01   5.47314\n",
       "1  1971-01-01   8.52868\n",
       "2  1972-01-01   9.80918\n",
       "3  1973-01-01  11.43481\n",
       "4  1974-01-01   8.40947"
      ]
     },
     "execution_count": 11,
     "metadata": {},
     "output_type": "execute_result"
    }
   ],
   "source": [
    "#Access Data for annual Nominal GDP growth in percentage\n",
    "#\"https://fred.stlouisfed.org/series/GDP#0\"\n",
    "\n",
    "url = 'https://fred.stlouisfed.org/graph/fredgraph.csv?bgcolor=%23e1e9f0&chart_type=line&drp=0&fo=open%20sans&graph_bgcolor=%23ffffff&height=450&mode=fred&recession_bars=on&txtcolor=%23444444&ts=12&tts=12&width=1168&nt=0&thu=0&trc=0&show_legend=yes&show_axis_titles=yes&show_tooltip=yes&id=GDP&scale=left&cosd=1970-01-01&coed=2019-01-01&line_color=%234572a7&link_values=false&line_style=solid&mark_type=none&mw=3&lw=2&ost=-99999&oet=99999&mma=0&fml=a&fq=Annual&fam=avg&fgst=pc1&fgsnd=2020-02-01&line_index=1&transformation=lin&vintage_date=2020-11-12&revision_date=2020-11-12&nd=1947-01-01'\n",
    "data = pd.read_csv(url, parse_dates = True)\n",
    "data.head()"
   ]
  },
  {
   "cell_type": "code",
   "execution_count": 12,
   "metadata": {},
   "outputs": [
    {
     "data": {
      "text/html": [
       "<div>\n",
       "<style scoped>\n",
       "    .dataframe tbody tr th:only-of-type {\n",
       "        vertical-align: middle;\n",
       "    }\n",
       "\n",
       "    .dataframe tbody tr th {\n",
       "        vertical-align: top;\n",
       "    }\n",
       "\n",
       "    .dataframe thead th {\n",
       "        text-align: right;\n",
       "    }\n",
       "</style>\n",
       "<table border=\"1\" class=\"dataframe\">\n",
       "  <thead>\n",
       "    <tr style=\"text-align: right;\">\n",
       "      <th></th>\n",
       "      <th>GDP</th>\n",
       "    </tr>\n",
       "  </thead>\n",
       "  <tbody>\n",
       "    <tr>\n",
       "      <th>count</th>\n",
       "      <td>50.000000</td>\n",
       "    </tr>\n",
       "    <tr>\n",
       "      <th>mean</th>\n",
       "      <td>6.325502</td>\n",
       "    </tr>\n",
       "    <tr>\n",
       "      <th>std</th>\n",
       "      <td>2.987518</td>\n",
       "    </tr>\n",
       "    <tr>\n",
       "      <th>min</th>\n",
       "      <td>-1.793760</td>\n",
       "    </tr>\n",
       "    <tr>\n",
       "      <th>25%</th>\n",
       "      <td>4.258455</td>\n",
       "    </tr>\n",
       "    <tr>\n",
       "      <th>50%</th>\n",
       "      <td>5.790765</td>\n",
       "    </tr>\n",
       "    <tr>\n",
       "      <th>75%</th>\n",
       "      <td>8.270052</td>\n",
       "    </tr>\n",
       "    <tr>\n",
       "      <th>max</th>\n",
       "      <td>12.958520</td>\n",
       "    </tr>\n",
       "  </tbody>\n",
       "</table>\n",
       "</div>"
      ],
      "text/plain": [
       "             GDP\n",
       "count  50.000000\n",
       "mean    6.325502\n",
       "std     2.987518\n",
       "min    -1.793760\n",
       "25%     4.258455\n",
       "50%     5.790765\n",
       "75%     8.270052\n",
       "max    12.958520"
      ]
     },
     "execution_count": 12,
     "metadata": {},
     "output_type": "execute_result"
    }
   ],
   "source": [
    "#Summary Statistics for annual Nominal GDP growth in percentage\n",
    "data.describe()"
   ]
  },
  {
   "cell_type": "code",
   "execution_count": 13,
   "metadata": {},
   "outputs": [
    {
     "data": {
      "text/html": [
       "<div>\n",
       "<style scoped>\n",
       "    .dataframe tbody tr th:only-of-type {\n",
       "        vertical-align: middle;\n",
       "    }\n",
       "\n",
       "    .dataframe tbody tr th {\n",
       "        vertical-align: top;\n",
       "    }\n",
       "\n",
       "    .dataframe thead th {\n",
       "        text-align: right;\n",
       "    }\n",
       "</style>\n",
       "<table border=\"1\" class=\"dataframe\">\n",
       "  <thead>\n",
       "    <tr style=\"text-align: right;\">\n",
       "      <th></th>\n",
       "      <th>DATE</th>\n",
       "      <th>MEFAINUSA646N_PC1</th>\n",
       "    </tr>\n",
       "  </thead>\n",
       "  <tbody>\n",
       "    <tr>\n",
       "      <th>0</th>\n",
       "      <td>1970-01-01</td>\n",
       "      <td>4.60087</td>\n",
       "    </tr>\n",
       "    <tr>\n",
       "      <th>1</th>\n",
       "      <td>1971-01-01</td>\n",
       "      <td>4.23634</td>\n",
       "    </tr>\n",
       "    <tr>\n",
       "      <th>2</th>\n",
       "      <td>1972-01-01</td>\n",
       "      <td>8.07973</td>\n",
       "    </tr>\n",
       "    <tr>\n",
       "      <th>3</th>\n",
       "      <td>1973-01-01</td>\n",
       "      <td>8.41130</td>\n",
       "    </tr>\n",
       "    <tr>\n",
       "      <th>4</th>\n",
       "      <td>1974-01-01</td>\n",
       "      <td>7.06165</td>\n",
       "    </tr>\n",
       "  </tbody>\n",
       "</table>\n",
       "</div>"
      ],
      "text/plain": [
       "         DATE  MEFAINUSA646N_PC1\n",
       "0  1970-01-01            4.60087\n",
       "1  1971-01-01            4.23634\n",
       "2  1972-01-01            8.07973\n",
       "3  1973-01-01            8.41130\n",
       "4  1974-01-01            7.06165"
      ]
     },
     "execution_count": 13,
     "metadata": {},
     "output_type": "execute_result"
    }
   ],
   "source": [
    "#Graphing for annual Nominal GDP growth in percentage😊\n",
    "\n",
    "#Access Data for Median Family Income growth growth in percentage\n",
    "#\"https://fred.stlouisfed.org/series/MEFAINUSA646N#0\"\n",
    "\n",
    "url = 'https://fred.stlouisfed.org/graph/fredgraph.csv?bgcolor=%23e1e9f0&chart_type=line&drp=0&fo=open%20sans&graph_bgcolor=%23ffffff&height=450&mode=fred&recession_bars=on&txtcolor=%23444444&ts=12&tts=12&width=1168&nt=0&thu=0&trc=0&show_legend=yes&show_axis_titles=yes&show_tooltip=yes&id=MEFAINUSA646N&scale=left&cosd=1970-01-01&coed=2019-01-01&line_color=%234572a7&link_values=false&line_style=solid&mark_type=none&mw=3&lw=2&ost=-99999&oet=99999&mma=0&fml=a&fq=Annual&fam=avg&fgst=lin&fgsnd=2019-01-01&line_index=1&transformation=pc1&vintage_date=2020-11-12&revision_date=2020-11-12&nd=1953-01-01'\n",
    "data = pd.read_csv(url, parse_dates = True)\n",
    "data.head()"
   ]
  },
  {
   "cell_type": "code",
   "execution_count": 14,
   "metadata": {},
   "outputs": [
    {
     "data": {
      "text/html": [
       "<div>\n",
       "<style scoped>\n",
       "    .dataframe tbody tr th:only-of-type {\n",
       "        vertical-align: middle;\n",
       "    }\n",
       "\n",
       "    .dataframe tbody tr th {\n",
       "        vertical-align: top;\n",
       "    }\n",
       "\n",
       "    .dataframe thead th {\n",
       "        text-align: right;\n",
       "    }\n",
       "</style>\n",
       "<table border=\"1\" class=\"dataframe\">\n",
       "  <thead>\n",
       "    <tr style=\"text-align: right;\">\n",
       "      <th></th>\n",
       "      <th>MEFAINUSA646N_PC1</th>\n",
       "    </tr>\n",
       "  </thead>\n",
       "  <tbody>\n",
       "    <tr>\n",
       "      <th>count</th>\n",
       "      <td>50.000000</td>\n",
       "    </tr>\n",
       "    <tr>\n",
       "      <th>mean</th>\n",
       "      <td>4.555356</td>\n",
       "    </tr>\n",
       "    <tr>\n",
       "      <th>std</th>\n",
       "      <td>2.759669</td>\n",
       "    </tr>\n",
       "    <tr>\n",
       "      <th>min</th>\n",
       "      <td>-2.329290</td>\n",
       "    </tr>\n",
       "    <tr>\n",
       "      <th>25%</th>\n",
       "      <td>2.676897</td>\n",
       "    </tr>\n",
       "    <tr>\n",
       "      <th>50%</th>\n",
       "      <td>4.691245</td>\n",
       "    </tr>\n",
       "    <tr>\n",
       "      <th>75%</th>\n",
       "      <td>6.264037</td>\n",
       "    </tr>\n",
       "    <tr>\n",
       "      <th>max</th>\n",
       "      <td>11.037410</td>\n",
       "    </tr>\n",
       "  </tbody>\n",
       "</table>\n",
       "</div>"
      ],
      "text/plain": [
       "       MEFAINUSA646N_PC1\n",
       "count          50.000000\n",
       "mean            4.555356\n",
       "std             2.759669\n",
       "min            -2.329290\n",
       "25%             2.676897\n",
       "50%             4.691245\n",
       "75%             6.264037\n",
       "max            11.037410"
      ]
     },
     "execution_count": 14,
     "metadata": {},
     "output_type": "execute_result"
    }
   ],
   "source": [
    "#Summary Statistics for Median Family Income growth in percentage\n",
    "data.describe()"
   ]
  },
  {
   "cell_type": "code",
   "execution_count": 15,
   "metadata": {},
   "outputs": [
    {
     "data": {
      "text/html": [
       "<div>\n",
       "<style scoped>\n",
       "    .dataframe tbody tr th:only-of-type {\n",
       "        vertical-align: middle;\n",
       "    }\n",
       "\n",
       "    .dataframe tbody tr th {\n",
       "        vertical-align: top;\n",
       "    }\n",
       "\n",
       "    .dataframe thead th {\n",
       "        text-align: right;\n",
       "    }\n",
       "</style>\n",
       "<table border=\"1\" class=\"dataframe\">\n",
       "  <thead>\n",
       "    <tr style=\"text-align: right;\">\n",
       "      <th></th>\n",
       "      <th>DATE</th>\n",
       "      <th>CPIAUCSL</th>\n",
       "    </tr>\n",
       "  </thead>\n",
       "  <tbody>\n",
       "    <tr>\n",
       "      <th>0</th>\n",
       "      <td>1970-01-01</td>\n",
       "      <td>38.841667</td>\n",
       "    </tr>\n",
       "    <tr>\n",
       "      <th>1</th>\n",
       "      <td>1971-01-01</td>\n",
       "      <td>40.483333</td>\n",
       "    </tr>\n",
       "    <tr>\n",
       "      <th>2</th>\n",
       "      <td>1972-01-01</td>\n",
       "      <td>41.808333</td>\n",
       "    </tr>\n",
       "    <tr>\n",
       "      <th>3</th>\n",
       "      <td>1973-01-01</td>\n",
       "      <td>44.425000</td>\n",
       "    </tr>\n",
       "    <tr>\n",
       "      <th>4</th>\n",
       "      <td>1974-01-01</td>\n",
       "      <td>49.316667</td>\n",
       "    </tr>\n",
       "  </tbody>\n",
       "</table>\n",
       "</div>"
      ],
      "text/plain": [
       "         DATE   CPIAUCSL\n",
       "0  1970-01-01  38.841667\n",
       "1  1971-01-01  40.483333\n",
       "2  1972-01-01  41.808333\n",
       "3  1973-01-01  44.425000\n",
       "4  1974-01-01  49.316667"
      ]
     },
     "execution_count": 15,
     "metadata": {},
     "output_type": "execute_result"
    }
   ],
   "source": [
    "#Graphing for Median Family Income growth in percentage😊\n",
    "\n",
    "#Access Data for Consumer Price Index \n",
    "#\"https://fred.stlouisfed.org/series/CPIAUCSL#0\"\n",
    "\n",
    "url = 'https://fred.stlouisfed.org/graph/fredgraph.csv?bgcolor=%23e1e9f0&chart_type=line&drp=0&fo=open%20sans&graph_bgcolor=%23ffffff&height=450&mode=fred&recession_bars=on&txtcolor=%23444444&ts=12&tts=12&width=1168&nt=0&thu=0&trc=0&show_legend=yes&show_axis_titles=yes&show_tooltip=yes&id=CPIAUCSL&scale=left&cosd=1970-01-01&coed=2019-01-01&line_color=%234572a7&link_values=false&line_style=solid&mark_type=none&mw=3&lw=2&ost=-99999&oet=99999&mma=0&fml=a&fq=Annual&fam=avg&fgst=lin&fgsnd=2020-02-01&line_index=1&transformation=lin&vintage_date=2020-11-12&revision_date=2020-11-12&nd=1947-01-01'\n",
    "data = pd.read_csv(url, parse_dates = True)\n",
    "data.head()"
   ]
  },
  {
   "cell_type": "code",
   "execution_count": 16,
   "metadata": {},
   "outputs": [
    {
     "data": {
      "text/html": [
       "<div>\n",
       "<style scoped>\n",
       "    .dataframe tbody tr th:only-of-type {\n",
       "        vertical-align: middle;\n",
       "    }\n",
       "\n",
       "    .dataframe tbody tr th {\n",
       "        vertical-align: top;\n",
       "    }\n",
       "\n",
       "    .dataframe thead th {\n",
       "        text-align: right;\n",
       "    }\n",
       "</style>\n",
       "<table border=\"1\" class=\"dataframe\">\n",
       "  <thead>\n",
       "    <tr style=\"text-align: right;\">\n",
       "      <th></th>\n",
       "      <th>CPIAUCSL</th>\n",
       "    </tr>\n",
       "  </thead>\n",
       "  <tbody>\n",
       "    <tr>\n",
       "      <th>count</th>\n",
       "      <td>50.000000</td>\n",
       "    </tr>\n",
       "    <tr>\n",
       "      <th>mean</th>\n",
       "      <td>147.537423</td>\n",
       "    </tr>\n",
       "    <tr>\n",
       "      <th>std</th>\n",
       "      <td>66.657608</td>\n",
       "    </tr>\n",
       "    <tr>\n",
       "      <th>min</th>\n",
       "      <td>38.841667</td>\n",
       "    </tr>\n",
       "    <tr>\n",
       "      <th>25%</th>\n",
       "      <td>97.295833</td>\n",
       "    </tr>\n",
       "    <tr>\n",
       "      <th>50%</th>\n",
       "      <td>150.304167</td>\n",
       "    </tr>\n",
       "    <tr>\n",
       "      <th>75%</th>\n",
       "      <td>205.897708</td>\n",
       "    </tr>\n",
       "    <tr>\n",
       "      <th>max</th>\n",
       "      <td>255.650750</td>\n",
       "    </tr>\n",
       "  </tbody>\n",
       "</table>\n",
       "</div>"
      ],
      "text/plain": [
       "         CPIAUCSL\n",
       "count   50.000000\n",
       "mean   147.537423\n",
       "std     66.657608\n",
       "min     38.841667\n",
       "25%     97.295833\n",
       "50%    150.304167\n",
       "75%    205.897708\n",
       "max    255.650750"
      ]
     },
     "execution_count": 16,
     "metadata": {},
     "output_type": "execute_result"
    }
   ],
   "source": [
    "#Summary Statistics for CPI\n",
    "data.describe()"
   ]
  },
  {
   "cell_type": "code",
   "execution_count": 17,
   "metadata": {},
   "outputs": [
    {
     "data": {
      "text/html": [
       "<div>\n",
       "<style scoped>\n",
       "    .dataframe tbody tr th:only-of-type {\n",
       "        vertical-align: middle;\n",
       "    }\n",
       "\n",
       "    .dataframe tbody tr th {\n",
       "        vertical-align: top;\n",
       "    }\n",
       "\n",
       "    .dataframe thead th {\n",
       "        text-align: right;\n",
       "    }\n",
       "</style>\n",
       "<table border=\"1\" class=\"dataframe\">\n",
       "  <thead>\n",
       "    <tr style=\"text-align: right;\">\n",
       "      <th></th>\n",
       "      <th>DATE</th>\n",
       "      <th>MSPUS_PC1</th>\n",
       "    </tr>\n",
       "  </thead>\n",
       "  <tbody>\n",
       "    <tr>\n",
       "      <th>0</th>\n",
       "      <td>1970-01-01</td>\n",
       "      <td>-8.30078</td>\n",
       "    </tr>\n",
       "    <tr>\n",
       "      <th>1</th>\n",
       "      <td>1971-01-01</td>\n",
       "      <td>7.45474</td>\n",
       "    </tr>\n",
       "    <tr>\n",
       "      <th>2</th>\n",
       "      <td>1972-01-01</td>\n",
       "      <td>9.11794</td>\n",
       "    </tr>\n",
       "    <tr>\n",
       "      <th>3</th>\n",
       "      <td>1973-01-01</td>\n",
       "      <td>18.43778</td>\n",
       "    </tr>\n",
       "    <tr>\n",
       "      <th>4</th>\n",
       "      <td>1974-01-01</td>\n",
       "      <td>10.58282</td>\n",
       "    </tr>\n",
       "  </tbody>\n",
       "</table>\n",
       "</div>"
      ],
      "text/plain": [
       "         DATE  MSPUS_PC1\n",
       "0  1970-01-01   -8.30078\n",
       "1  1971-01-01    7.45474\n",
       "2  1972-01-01    9.11794\n",
       "3  1973-01-01   18.43778\n",
       "4  1974-01-01   10.58282"
      ]
     },
     "execution_count": 17,
     "metadata": {},
     "output_type": "execute_result"
    }
   ],
   "source": [
    "#Graphing for CPI in percentage😊\n",
    "\n",
    "#Access Data for Median Sales Price growth in percentage of Houses Sold \n",
    "#\"https://fred.stlouisfed.org/series/MSPUS#0\"\n",
    "url = 'https://fred.stlouisfed.org/graph/fredgraph.csv?bgcolor=%23e1e9f0&chart_type=line&drp=0&fo=open%20sans&graph_bgcolor=%23ffffff&height=450&mode=fred&recession_bars=on&txtcolor=%23444444&ts=12&tts=12&width=1168&nt=0&thu=0&trc=0&show_legend=yes&show_axis_titles=yes&show_tooltip=yes&id=MSPUS&scale=left&cosd=1970-01-01&coed=2019-01-01&line_color=%234572a7&link_values=false&line_style=solid&mark_type=none&mw=3&lw=2&ost=-99999&oet=99999&mma=0&fml=a&fq=Annual&fam=avg&fgst=lin&fgsnd=2020-02-01&line_index=1&transformation=pc1&vintage_date=2020-11-12&revision_date=2020-11-12&nd=1963-01-01'\n",
    "data = pd.read_csv(url, parse_dates = True)\n",
    "data.head()"
   ]
  },
  {
   "cell_type": "code",
   "execution_count": 18,
   "metadata": {},
   "outputs": [
    {
     "data": {
      "text/html": [
       "<div>\n",
       "<style scoped>\n",
       "    .dataframe tbody tr th:only-of-type {\n",
       "        vertical-align: middle;\n",
       "    }\n",
       "\n",
       "    .dataframe tbody tr th {\n",
       "        vertical-align: top;\n",
       "    }\n",
       "\n",
       "    .dataframe thead th {\n",
       "        text-align: right;\n",
       "    }\n",
       "</style>\n",
       "<table border=\"1\" class=\"dataframe\">\n",
       "  <thead>\n",
       "    <tr style=\"text-align: right;\">\n",
       "      <th></th>\n",
       "      <th>MSPUS_PC1</th>\n",
       "    </tr>\n",
       "  </thead>\n",
       "  <tbody>\n",
       "    <tr>\n",
       "      <th>count</th>\n",
       "      <td>50.000000</td>\n",
       "    </tr>\n",
       "    <tr>\n",
       "      <th>mean</th>\n",
       "      <td>5.314861</td>\n",
       "    </tr>\n",
       "    <tr>\n",
       "      <th>std</th>\n",
       "      <td>5.299830</td>\n",
       "    </tr>\n",
       "    <tr>\n",
       "      <th>min</th>\n",
       "      <td>-8.300780</td>\n",
       "    </tr>\n",
       "    <tr>\n",
       "      <th>25%</th>\n",
       "      <td>2.958910</td>\n",
       "    </tr>\n",
       "    <tr>\n",
       "      <th>50%</th>\n",
       "      <td>5.236630</td>\n",
       "    </tr>\n",
       "    <tr>\n",
       "      <th>75%</th>\n",
       "      <td>8.830682</td>\n",
       "    </tr>\n",
       "    <tr>\n",
       "      <th>max</th>\n",
       "      <td>18.437780</td>\n",
       "    </tr>\n",
       "  </tbody>\n",
       "</table>\n",
       "</div>"
      ],
      "text/plain": [
       "       MSPUS_PC1\n",
       "count  50.000000\n",
       "mean    5.314861\n",
       "std     5.299830\n",
       "min    -8.300780\n",
       "25%     2.958910\n",
       "50%     5.236630\n",
       "75%     8.830682\n",
       "max    18.437780"
      ]
     },
     "execution_count": 18,
     "metadata": {},
     "output_type": "execute_result"
    }
   ],
   "source": [
    "#Summary Statistics for median sales price in percentage\n",
    "data.describe()"
   ]
  },
  {
   "cell_type": "code",
   "execution_count": 19,
   "metadata": {},
   "outputs": [],
   "source": [
    "#Visualization\n",
    "\n",
    "import matplotlib.pyplot as plt"
   ]
  },
  {
   "cell_type": "code",
   "execution_count": 20,
   "metadata": {},
   "outputs": [
    {
     "data": {
      "image/png": "[encoded data removed]",
      "text/plain": [
       "<Figure size 432x288 with 1 Axes>"
      ]
     },
     "metadata": {
      "needs_background": "light"
     },
     "output_type": "display_data"
    }
   ],
   "source": [
    "x = [1970,1971,1972,1973,1974,1975,1976,1977,1978,1979,1980,1981,1982,1983,1984,1985,1986,1987,1988,1989,1990,1991,1992,1993,1994,1995,1996,1997,1998,1999,2000,2001,2002,2003,2004,2005,2006,2007,2008,2009,2010,2011,2012,2013,2014,2015,2016,2017,2018,2019]\n",
    "y = [-0.3, -0.1,4.9,2.0,-2.7,-1.7,3.1,0.7,3.1,1.4,-3.5,-2.7,-1.3,0.6,3.2,1.4,4.4,1.6,0.3,1.8,-1.5,-1.9,-0.7,-1.4,2.8,2.3,1.5,3.1,3.5,2.3,0.5,-1.5,-1.0,-0.3,-0.1,0.5,0.7,2.2,-3.4,-2.0,-1.4,-1.9,0.0,3.7,0.1,5.9,1.5,2.5,0.8,7.4]\n",
    "\n",
    "# plotting the points  \n",
    "plt.plot(x, y) \n",
    "  \n",
    "# naming the x axis \n",
    "plt.xlabel('Year') \n",
    "# naming the y axis \n",
    "plt.ylabel('% Change') \n",
    "  \n",
    "# giving a title to my graph \n",
    "plt.title('Annual Real Income Growth from 1970-2019') \n",
    "  \n",
    "# function to show the plot \n",
    "plt.show() "
   ]
  },
  {
   "cell_type": "code",
   "execution_count": 21,
   "metadata": {},
   "outputs": [
    {
     "data": {
      "image/png": "[encoded data removed]",
      "text/plain": [
       "<Figure size 432x288 with 1 Axes>"
      ]
     },
     "metadata": {
      "needs_background": "light"
     },
     "output_type": "display_data"
    }
   ],
   "source": [
    "x = [1970,1971,1972,1973,1974,1975,1976,1977,1978,1979,1980,1981,1982,1983,1984,1985,1986,1987,1988,1989,1990,1991,1992,1993,1994,1995,1996,1997,1998,1999,2000,2001,2002,2003,2004,2005,2006,2007,2008,2009,2010,2011,2012,2013,2014,2015,2016,2017,2018,2019]\n",
    "y = [5.5,8.5,9.8,11.4,8.4,9.0,11.2,11.1,13.0,11.7,8.8,12.2,4.3,8.7,11.1,7.5,5.5,6.0,7.9,7.7,5.7,3.3,5.9,5.2,6.3,4.8,5.7,6.2,5.7,6.3,6.5,3.2,3.4,4.8,6.6,6.7,6.0,4.6,1.8,-1.8,3.8,3.7,4.2,3.6,4.4,4.1,2.8,4.3,5.5,4.0]\n",
    "\n",
    "# plotting the points  \n",
    "plt.plot(x, y) \n",
    "  \n",
    "# naming the x axis \n",
    "plt.xlabel('Year') \n",
    "# naming the y axis \n",
    "plt.ylabel('% Change') \n",
    "  \n",
    "# giving a title to my graph \n",
    "plt.title('Nominal GDP Growth from 1970-2019') \n",
    "  \n",
    "# function to show the plot \n",
    "plt.show() "
   ]
  },
  {
   "cell_type": "code",
   "execution_count": 22,
   "metadata": {},
   "outputs": [
    {
     "data": {
      "image/png": "[encoded data removed]",
      "text/plain": [
       "<Figure size 432x288 with 1 Axes>"
      ]
     },
     "metadata": {
      "needs_background": "light"
     },
     "output_type": "display_data"
    }
   ],
   "source": [
    "x = [1970,1971,1972,1973,1974,1975,1976,1977,1978,1979,1980,1981,1982,1983,1984,1985,1986,1987,1988,1989,1990,1991,1992,1993,1994,1995,1996,1997,1998,1999,2000,2001,2002,2003,2004,2005,2006,2007,2008,2009,2010,2011,2012,2013,2014,2015,2016,2017,2018,2019]\n",
    "y = [5.8,4.3,3.3,6.2,11.1,9.1,5.7,6.5,7.6,11.3,13.5,10.3,6.1,3.2,4.3,3.5,1.9,3.7,4.1,4.8,5.4,4.2,3.0,3.0,2.6,2.8,2.9,2.3,1.6,2.2,3.4,2.8,1.6,2.3,2.7,3.4,3.2,2.9,3.8,-0.4,1.6,3.2,2.1,1.5,1.6,0.1,1.3,2.1,2.4,1.8]\n",
    "\n",
    "# plotting the points  \n",
    "plt.plot(x, y) \n",
    "  \n",
    "# naming the x axis \n",
    "plt.xlabel('Year') \n",
    "# naming the y axis \n",
    "plt.ylabel('% Change') \n",
    "  \n",
    "# giving a title to my graph \n",
    "plt.title('Nominal Inflation from 1970-2019') \n",
    "  \n",
    "# function to show the plot \n",
    "plt.show() "
   ]
  },
  {
   "cell_type": "code",
   "execution_count": 23,
   "metadata": {},
   "outputs": [
    {
     "data": {
      "image/png": "[encoded data removed]",
      "text/plain": [
       "<Figure size 432x288 with 1 Axes>"
      ]
     },
     "metadata": {
      "needs_background": "light"
     },
     "output_type": "display_data"
    }
   ],
   "source": [
    "x = [1970,1971,1972,1973,1974,1975,1976,1977,1978,1979,1980,1981,1982,1983,1984,1985,1986,1987,1988,1989,1990,1991,1992,1993,1994,1995,1996,1997,1998,1999,2000,2001,2002,2003,2004,2005,2006,2007,2008,2009,2010,2011,2012,2013,2014,2015,2016,2017,2018,2019]\n",
    "y = [-8.3,7.5,9.1,18.4,10.6,8.9,12.6,10.6,14.2,12.4,3.2,6.5,0.4,8.9,6.1,5.4,9.2,13.8,7.2,7.3,1.6,-1.9,1.2,4.2,3.1,2.3,5.1,3.4,4.8,5.4,4.6,3.3,7.5,3.3,13.5,8.4,3.0,0.5,-6.3,-6.1,3.3,1.0,8.7,8.9,7.3,2.9,3.7,5.7,0.9,-1.5]\n",
    "\n",
    "# plotting the points  \n",
    "plt.plot(x, y) \n",
    "  \n",
    "# naming the x axis \n",
    "plt.xlabel('Year') \n",
    "# naming the y axis \n",
    "plt.ylabel('% Change') \n",
    "  \n",
    "# giving a title to my graph \n",
    "plt.title('Average Cost of a Home from 1970-2019') \n",
    "  \n",
    "# function to show the plot \n",
    "plt.show() "
   ]
  },
  {
   "cell_type": "code",
   "execution_count": 24,
   "metadata": {},
   "outputs": [
    {
     "data": {
      "text/plain": [
       "<matplotlib.legend.Legend at 0x1007b7d8>"
      ]
     },
     "execution_count": 24,
     "metadata": {},
     "output_type": "execute_result"
    },
    {
     "data": {
      "image/png": "[encoded data removed]",
      "text/plain": [
       "<Figure size 432x288 with 1 Axes>"
      ]
     },
     "metadata": {
      "needs_background": "light"
     },
     "output_type": "display_data"
    }
   ],
   "source": [
    "x1 = [1970,1971,1972,1973,1974,1975,1976,1977,1978,1979,1980,1981,1982,1983,1984,1985,1986,1987,1988,1989,1990,1991,1992,1993,1994,1995,1996,1997,1998,1999,2000,2001,2002,2003,2004,2005,2006,2007,2008,2009,2010,2011,2012,2013,2014,2015,2016,2017,2018,2019]\n",
    "\n",
    "y1 = [5.5,8.5,9.8,11.4,8.4,9.0,11.2,11.1,13.0,11.7,8.8,12.2,4.3,8.7,11.1,7.5,5.5,6.0,7.9,7.7,5.7,3.3,5.9,5.2,6.3,4.8,5.7,6.2,5.7,6.3,6.5,3.2,3.4,4.8,6.6,6.7,6.0,4.6,1.8,-1.8,3.8,3.7,4.2,3.6,4.4,4.1,2.8,4.3,5.5,4.0]\n",
    "\n",
    "x2 = [1970,1971,1972,1973,1974,1975,1976,1977,1978,1979,1980,1981,1982,1983,1984,1985,1986,1987,1988,1989,1990,1991,1992,1993,1994,1995,1996,1997,1998,1999,2000,2001,2002,2003,2004,2005,2006,2007,2008,2009,2010,2011,2012,2013,2014,2015,2016,2017,2018,2019]\n",
    "\n",
    "y2 = [-0.3, -0.1,4.9,2.0,-2.7,-1.7,3.1,0.7,3.1,1.4,-3.5,-2.7,-1.3,0.6,3.2,1.4,4.4,1.6,0.3,1.8,-1.5,-1.9,-0.7,-1.4,2.8,2.3,1.5,3.1,3.5,2.3,0.5,-1.5,-1.0,-0.3,-0.1,0.5,0.7,2.2,-3.4,-2.0,-1.4,-1.9,0.0,3.7,0.1,5.9,1.5,2.5,0.8,7.4]\n",
    "\n",
    "x3 = [1970,1971,1972,1973,1974,1975,1976,1977,1978,1979,1980,1981,1982,1983,1984,1985,1986,1987,1988,1989,1990,1991,1992,1993,1994,1995,1996,1997,1998,1999,2000,2001,2002,2003,2004,2005,2006,2007,2008,2009,2010,2011,2012,2013,2014,2015,2016,2017,2018,2019]\n",
    "\n",
    "y3 = [5.8,4.3,3.3,6.2,11.1,9.1,5.7,6.5,7.6,11.3,13.5,10.3,6.1,3.2,4.3,3.5,1.9,3.7,4.1,4.8,5.4,4.2,3.0,3.0,2.6,2.8,2.9,2.3,1.6,2.2,3.4,2.8,1.6,2.3,2.7,3.4,3.2,2.9,3.8,-0.4,1.6,3.2,2.1,1.5,1.6,0.1,1.3,2.1,2.4,1.8]\n",
    "\n",
    "x4 = [1970,1971,1972,1973,1974,1975,1976,1977,1978,1979,1980,1981,1982,1983,1984,1985,1986,1987,1988,1989,1990,1991,1992,1993,1994,1995,1996,1997,1998,1999,2000,2001,2002,2003,2004,2005,2006,2007,2008,2009,2010,2011,2012,2013,2014,2015,2016,2017,2018,2019]\n",
    "\n",
    "y4 = [-8.3,7.5,9.1,18.4,10.6,8.9,12.6,10.6,14.2,12.4,3.2,6.5,0.4,8.9,6.1,5.4,9.2,13.8,7.2,7.3,1.6,-1.9,1.2,4.2,3.1,2.3,5.1,3.4,4.8,5.4,4.6,3.3,7.5,3.3,13.5,8.4,3.0,0.5,-6.3,-6.1,3.3,1.0,8.7,8.9,7.3,2.9,3.7,5.7,0.9,-1.5]\n",
    "\n",
    "\n",
    "\n",
    "\n",
    "plt.plot(x1, y1)\n",
    "plt.plot(x2, y2)\n",
    "plt.plot(x3, y3)\n",
    "plt.plot(x4, y4)\n",
    "\n",
    "# naming the x axis \n",
    "plt.xlabel('Year') \n",
    "# naming the y axis \n",
    "plt.ylabel('% Change') \n",
    "\n",
    "plt.title('Nominal GDP Growth vs Income Growth vs. Inflation Rate vs. Average Cost of Housing from 1970-2019') \n",
    "\n",
    "plt.legend([\"GDP Growth\", \"Income Growth\", \"Inflation Rate\", \"Average Cost of Housing Growth\"])"
   ]
  },
  {
   "cell_type": "code",
   "execution_count": null,
   "metadata": {},
   "outputs": [],
   "source": []
  }
 ],
 "metadata": {
  "kernelspec": {
   "display_name": "Python 3",
   "language": "python",
   "name": "python3"
  },
  "language_info": {
   "codemirror_mode": {
    "name": "ipython",
    "version": 3
   },
   "file_extension": ".py",
   "mimetype": "text/x-python",
   "name": "python",
   "nbconvert_exporter": "python",
   "pygments_lexer": "ipython3",
   "version": "3.8.3"
  }
 },
 "nbformat": 4,
 "nbformat_minor": 4
}
