{
 "cells": [
  {
   "cell_type": "code",
   "execution_count": 4,
   "metadata": {},
   "outputs": [
    {
     "data": {
      "text/html": [
       "<div>\n",
       "<style scoped>\n",
       "    .dataframe tbody tr th:only-of-type {\n",
       "        vertical-align: middle;\n",
       "    }\n",
       "\n",
       "    .dataframe tbody tr th {\n",
       "        vertical-align: top;\n",
       "    }\n",
       "\n",
       "    .dataframe thead th {\n",
       "        text-align: right;\n",
       "    }\n",
       "</style>\n",
       "<table border=\"1\" class=\"dataframe\">\n",
       "  <thead>\n",
       "    <tr style=\"text-align: right;\">\n",
       "      <th></th>\n",
       "      <th>Decade</th>\n",
       "      <th>Average GDP Growth %</th>\n",
       "      <th>Average Income Growth %</th>\n",
       "      <th>Average Inflation %</th>\n",
       "      <th>Average Price of a House Growth %</th>\n",
       "    </tr>\n",
       "  </thead>\n",
       "  <tbody>\n",
       "    <tr>\n",
       "      <th>0</th>\n",
       "      <td>1970s</td>\n",
       "      <td>9.96</td>\n",
       "      <td>1.04</td>\n",
       "      <td>7.09</td>\n",
       "      <td>9.60</td>\n",
       "    </tr>\n",
       "    <tr>\n",
       "      <th>1</th>\n",
       "      <td>1980s</td>\n",
       "      <td>7.97</td>\n",
       "      <td>0.58</td>\n",
       "      <td>5.54</td>\n",
       "      <td>6.80</td>\n",
       "    </tr>\n",
       "    <tr>\n",
       "      <th>2</th>\n",
       "      <td>1990s</td>\n",
       "      <td>5.51</td>\n",
       "      <td>1.00</td>\n",
       "      <td>3.00</td>\n",
       "      <td>2.92</td>\n",
       "    </tr>\n",
       "    <tr>\n",
       "      <th>3</th>\n",
       "      <td>2000s</td>\n",
       "      <td>4.18</td>\n",
       "      <td>-0.44</td>\n",
       "      <td>2.57</td>\n",
       "      <td>3.17</td>\n",
       "    </tr>\n",
       "    <tr>\n",
       "      <th>4</th>\n",
       "      <td>2010s</td>\n",
       "      <td>4.04</td>\n",
       "      <td>1.86</td>\n",
       "      <td>1.77</td>\n",
       "      <td>4.09</td>\n",
       "    </tr>\n",
       "  </tbody>\n",
       "</table>\n",
       "</div>"
      ],
      "text/plain": [
       "  Decade  Average GDP Growth %  Average Income Growth %  Average Inflation %  \\\n",
       "0  1970s                  9.96                     1.04                 7.09   \n",
       "1  1980s                  7.97                     0.58                 5.54   \n",
       "2  1990s                  5.51                     1.00                 3.00   \n",
       "3  2000s                  4.18                    -0.44                 2.57   \n",
       "4  2010s                  4.04                     1.86                 1.77   \n",
       "\n",
       "   Average Price of a House Growth %  \n",
       "0                               9.60  \n",
       "1                               6.80  \n",
       "2                               2.92  \n",
       "3                               3.17  \n",
       "4                               4.09  "
      ]
     },
     "execution_count": 4,
     "metadata": {},
     "output_type": "execute_result"
    }
   ],
   "source": [
    "#Variables by Decade\n",
    "\n",
    "import pandas as pd\n",
    "df = pd.DataFrame({'Decade':['1970s','1980s','1990s','2000s','2010s'],\n",
    "                   'Average GDP Growth %':[9.96,7.97,5.51,4.18,4.04],\n",
    "                   'Average Income Growth %':[1.04,0.58,1,-0.44,1.86],\n",
    "                   'Average Inflation %':[7.09,5.54,3,2.57,1.77],\n",
    "                   'Average Price of a House Growth %':[9.6,6.8,2.92,3.17,4.09]})\n",
    "df"
   ]
  },
  {
   "cell_type": "code",
   "execution_count": null,
   "metadata": {},
   "outputs": [],
   "source": []
  }
 ],
 "metadata": {
  "kernelspec": {
   "display_name": "Python 3",
   "language": "python",
   "name": "python3"
  },
  "language_info": {
   "codemirror_mode": {
    "name": "ipython",
    "version": 3
   },
   "file_extension": ".py",
   "mimetype": "text/x-python",
   "name": "python",
   "nbconvert_exporter": "python",
   "pygments_lexer": "ipython3",
   "version": "3.8.5"
  }
 },
 "nbformat": 4,
 "nbformat_minor": 4
}
